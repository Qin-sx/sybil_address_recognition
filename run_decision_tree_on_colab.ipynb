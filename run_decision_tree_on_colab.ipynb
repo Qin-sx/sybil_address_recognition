{
  "cells": [
    {
      "cell_type": "code",
      "execution_count": null,
      "metadata": {
        "colab": {
          "base_uri": "https://localhost:8080/"
        },
        "id": "-YM07UAkkM_v",
        "outputId": "0c13b2ca-d8af-4840-b337-72071da09458"
      },
      "outputs": [],
      "source": [
        "!git clone https://github.com/Qin-sx/sybil_demo_pipeline.git"
      ]
    },
    {
      "cell_type": "code",
      "execution_count": null,
      "metadata": {
        "colab": {
          "base_uri": "https://localhost:8080/"
        },
        "id": "gMzq-D_XkT3H",
        "outputId": "a70bb668-ebd7-4f1b-ce5a-990a548d1845"
      },
      "outputs": [],
      "source": [
        "from google.colab import drive\n",
        "drive.mount('/content/drive')"
      ]
    },
    {
      "cell_type": "code",
      "execution_count": null,
      "metadata": {
        "id": "wT8kptstklo3"
      },
      "outputs": [],
      "source": [
        "import os\n",
        "os.chdir('/content/sybil_demo_pipeline')"
      ]
    },
    {
      "cell_type": "code",
      "execution_count": null,
      "metadata": {
        "id": "wq9nz57Okntj"
      },
      "outputs": [],
      "source": [
        "!mkdir data"
      ]
    },
    {
      "cell_type": "code",
      "execution_count": null,
      "metadata": {
        "colab": {
          "base_uri": "https://localhost:8080/"
        },
        "id": "RMB2OmaWk2Ws",
        "outputId": "042449a5-046f-45cd-9496-9059a162e858"
      },
      "outputs": [],
      "source": [
        "!unzip /content/drive/MyDrive/contest/sybil_address_prediction.zip -d /content/sybil_demo_pipeline/data/\n",
        "!mkdir /content/sybil_demo_pipeline/data/raw_data\n",
        "!mv /content/sybil_demo_pipeline/data/sybil_address_prediction/*  /content/sybil_demo_pipeline/data/raw_data/"
      ]
    },
    {
      "cell_type": "code",
      "execution_count": null,
      "metadata": {
        "id": "BeZQHZvDryS5"
      },
      "outputs": [],
      "source": [
        "!mkdir data/features"
      ]
    },
    {
      "cell_type": "code",
      "execution_count": null,
      "metadata": {
        "id": "LXBkmDRKdbSE"
      },
      "outputs": [],
      "source": [
        "!mkdir ./saved_model"
      ]
    },
    {
      "cell_type": "code",
      "execution_count": null,
      "metadata": {
        "colab": {
          "base_uri": "https://localhost:8080/"
        },
        "id": "zxJRlavODVls",
        "outputId": "a77eeee1-9d8d-4c8a-a107-5c0fcd4207cc"
      },
      "outputs": [],
      "source": [
        "!pip install catboost"
      ]
    },
    {
      "cell_type": "code",
      "execution_count": null,
      "metadata": {
        "colab": {
          "base_uri": "https://localhost:8080/"
        },
        "id": "oe8cbBSd67ah",
        "outputId": "7f4d2c17-185f-4de7-83a6-5d0b589e7b31"
      },
      "outputs": [],
      "source": [
        "!python train2.py"
      ]
    },
    {
      "cell_type": "code",
      "execution_count": null,
      "metadata": {
        "colab": {
          "base_uri": "https://localhost:8080/"
        },
        "id": "SXJ19rpV7o4s",
        "outputId": "f1305186-e64d-4cce-e19a-a465b10fd2f5"
      },
      "outputs": [],
      "source": [
        "!python inference2.py"
      ]
    },
    {
      "cell_type": "code",
      "execution_count": null,
      "metadata": {
        "id": "as4Px8skYY4O"
      },
      "outputs": [],
      "source": [
        "import os\n",
        "os.chdir('/content')"
      ]
    },
    {
      "cell_type": "code",
      "execution_count": null,
      "metadata": {
        "colab": {
          "base_uri": "https://localhost:8080/"
        },
        "id": "gYUGhBBQZdBS",
        "outputId": "f7e8e5c7-3840-437a-ccd3-58c9fc737e46"
      },
      "outputs": [],
      "source": [
        "!zip -r sybil_demo_pipeline.zip ./sybil_demo_pipeline -x \"./sybil_demo_pipeline/data/*\" -x \"./sybil_demo_pipeline/saved_model/*\""
      ]
    }
  ],
  "metadata": {
    "colab": {
      "provenance": []
    },
    "kernelspec": {
      "display_name": "Python 3",
      "name": "python3"
    },
    "language_info": {
      "name": "python"
    }
  },
  "nbformat": 4,
  "nbformat_minor": 0
}
